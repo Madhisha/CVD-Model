{
  "nbformat": 4,
  "nbformat_minor": 0,
  "metadata": {
    "colab": {
      "provenance": [],
      "authorship_tag": "ABX9TyMaQ+8jNZFoQ/qNu+6fQTbV",
      "include_colab_link": true
    },
    "kernelspec": {
      "name": "python3",
      "display_name": "Python 3"
    },
    "language_info": {
      "name": "python"
    }
  },
  "cells": [
    {
      "cell_type": "markdown",
      "metadata": {
        "id": "view-in-github",
        "colab_type": "text"
      },
      "source": [
        "<a href=\"https://colab.research.google.com/github/Madhisha/CVD-Model/blob/main/preprocess.ipynb\" target=\"_parent\"><img src=\"https://colab.research.google.com/assets/colab-badge.svg\" alt=\"Open In Colab\"/></a>"
      ]
    },
    {
      "cell_type": "code",
      "source": [
        "import pandas as pd\n",
        "\n",
        "df = pd.read_csv('heart_2020_cleaned[1].csv')\n",
        "print(df.head())"
      ],
      "metadata": {
        "colab": {
          "base_uri": "https://localhost:8080/"
        },
        "id": "Uc-k-pPiBjd9",
        "outputId": "0ae8fe9c-7654-4a52-bae3-848afc2e1d51"
      },
      "execution_count": null,
      "outputs": [
        {
          "output_type": "stream",
          "name": "stdout",
          "text": [
            "  HeartDisease    BMI Smoking AlcoholDrinking Stroke  PhysicalHealth  \\\n",
            "0           No  16.60     Yes              No     No             3.0   \n",
            "1           No  20.34      No              No    Yes             0.0   \n",
            "2           No  26.58     Yes              No     No            20.0   \n",
            "3           No  24.21      No              No     No             0.0   \n",
            "4           No  23.71      No              No     No            28.0   \n",
            "\n",
            "   MentalHealth DiffWalking     Sex  AgeCategory   Race Diabetic  \\\n",
            "0          30.0          No  Female        55-59  White      Yes   \n",
            "1           0.0          No  Female  80 or older  White       No   \n",
            "2          30.0          No    Male        65-69  White      Yes   \n",
            "3           0.0          No  Female        75-79  White       No   \n",
            "4           0.0         Yes  Female        40-44  White       No   \n",
            "\n",
            "  PhysicalActivity  GenHealth  SleepTime Asthma KidneyDisease SkinCancer  \n",
            "0              Yes  Very good        5.0    Yes            No        Yes  \n",
            "1              Yes  Very good        7.0     No            No         No  \n",
            "2              Yes       Fair        8.0    Yes            No         No  \n",
            "3               No       Good        6.0     No            No        Yes  \n",
            "4              Yes  Very good        8.0     No            No         No  \n"
          ]
        }
      ]
    },
    {
      "cell_type": "markdown",
      "source": [
        "Convert binary cols to numerical"
      ],
      "metadata": {
        "id": "fWziNTK-FYUP"
      }
    },
    {
      "cell_type": "code",
      "source": [
        "binary_columns = ['HeartDisease', 'Smoking', 'AlcoholDrinking', 'Stroke', 'DiffWalking',\n",
        "                  'PhysicalActivity', 'Asthma', 'KidneyDisease', 'SkinCancer']\n",
        "\n",
        "df[binary_columns] = df[binary_columns].apply(lambda x: x.map({'Yes': 1, 'No': 0}))\n",
        "\n",
        "print(df.head())"
      ],
      "metadata": {
        "colab": {
          "base_uri": "https://localhost:8080/"
        },
        "id": "6HWKBTyrE9-o",
        "outputId": "c0f3243b-34bf-49f0-9180-6cccebc6456c"
      },
      "execution_count": null,
      "outputs": [
        {
          "output_type": "stream",
          "name": "stdout",
          "text": [
            "   HeartDisease    BMI  Smoking  AlcoholDrinking  Stroke  PhysicalHealth  \\\n",
            "0             0  16.60        1                0       0             3.0   \n",
            "1             0  20.34        0                0       1             0.0   \n",
            "2             0  26.58        1                0       0            20.0   \n",
            "3             0  24.21        0                0       0             0.0   \n",
            "4             0  23.71        0                0       0            28.0   \n",
            "\n",
            "   MentalHealth  DiffWalking     Sex  AgeCategory   Race Diabetic  \\\n",
            "0          30.0            0  Female        55-59  White      Yes   \n",
            "1           0.0            0  Female  80 or older  White       No   \n",
            "2          30.0            0    Male        65-69  White      Yes   \n",
            "3           0.0            0  Female        75-79  White       No   \n",
            "4           0.0            1  Female        40-44  White       No   \n",
            "\n",
            "   PhysicalActivity  GenHealth  SleepTime  Asthma  KidneyDisease  SkinCancer  \n",
            "0                 1  Very good        5.0       1              0           1  \n",
            "1                 1  Very good        7.0       0              0           0  \n",
            "2                 1       Fair        8.0       1              0           0  \n",
            "3                 0       Good        6.0       0              0           1  \n",
            "4                 1  Very good        8.0       0              0           0  \n"
          ]
        }
      ]
    },
    {
      "cell_type": "markdown",
      "source": [
        "Label encode categorical cols (LabelEncoder for ordinal values)"
      ],
      "metadata": {
        "id": "pxICd7v1HHKv"
      }
    },
    {
      "cell_type": "code",
      "source": [
        "from sklearn.preprocessing import LabelEncoder\n",
        "\n",
        "label_columns = ['Sex', 'Diabetic', 'GenHealth']\n",
        "\n",
        "le = LabelEncoder()\n",
        "for col in label_columns:\n",
        "    df[col] = le.fit_transform(df[col])\n",
        "\n",
        "print(df.head(12)) # male -1, female - 0"
      ],
      "metadata": {
        "colab": {
          "base_uri": "https://localhost:8080/"
        },
        "id": "d41C06g8FcLD",
        "outputId": "3057321c-9747-4fc3-cf53-38851409234e"
      },
      "execution_count": null,
      "outputs": [
        {
          "output_type": "stream",
          "name": "stdout",
          "text": [
            "    HeartDisease    BMI  Smoking  AlcoholDrinking  Stroke  PhysicalHealth  \\\n",
            "0              0  16.60        1                0       0             3.0   \n",
            "1              0  20.34        0                0       1             0.0   \n",
            "2              0  26.58        1                0       0            20.0   \n",
            "3              0  24.21        0                0       0             0.0   \n",
            "4              0  23.71        0                0       0            28.0   \n",
            "5              1  28.87        1                0       0             6.0   \n",
            "6              0  21.63        0                0       0            15.0   \n",
            "7              0  31.64        1                0       0             5.0   \n",
            "8              0  26.45        0                0       0             0.0   \n",
            "9              0  40.69        0                0       0             0.0   \n",
            "10             1  34.30        1                0       0            30.0   \n",
            "11             0  28.71        1                0       0             0.0   \n",
            "\n",
            "    MentalHealth  DiffWalking  Sex  AgeCategory   Race  Diabetic  \\\n",
            "0           30.0            0    0        55-59  White         2   \n",
            "1            0.0            0    0  80 or older  White         0   \n",
            "2           30.0            0    1        65-69  White         2   \n",
            "3            0.0            0    0        75-79  White         0   \n",
            "4            0.0            1    0        40-44  White         0   \n",
            "5            0.0            1    0        75-79  Black         0   \n",
            "6            0.0            0    0        70-74  White         0   \n",
            "7            0.0            1    0  80 or older  White         2   \n",
            "8            0.0            0    0  80 or older  White         1   \n",
            "9            0.0            1    1        65-69  White         0   \n",
            "10           0.0            1    1        60-64  White         2   \n",
            "11           0.0            0    0        55-59  White         0   \n",
            "\n",
            "    PhysicalActivity  GenHealth  SleepTime  Asthma  KidneyDisease  SkinCancer  \n",
            "0                  1          4        5.0       1              0           1  \n",
            "1                  1          4        7.0       0              0           0  \n",
            "2                  1          1        8.0       1              0           0  \n",
            "3                  0          2        6.0       0              0           1  \n",
            "4                  1          4        8.0       0              0           0  \n",
            "5                  0          1       12.0       0              0           0  \n",
            "6                  1          1        4.0       1              0           1  \n",
            "7                  0          2        9.0       1              0           0  \n",
            "8                  0          1        5.0       0              1           0  \n",
            "9                  1          2       10.0       0              0           0  \n",
            "10                 0          3       15.0       1              0           0  \n",
            "11                 1          4        5.0       0              0           0  \n"
          ]
        }
      ]
    },
    {
      "cell_type": "code",
      "source": [
        "print(df['Race'].value_counts())\n",
        "print(df['AgeCategory'].value_counts)"
      ],
      "metadata": {
        "colab": {
          "base_uri": "https://localhost:8080/"
        },
        "id": "RCzHpaNONlq7",
        "outputId": "1d6c843d-fe70-4cc6-fa62-eff086880b66"
      },
      "execution_count": null,
      "outputs": [
        {
          "output_type": "stream",
          "name": "stdout",
          "text": [
            "Race\n",
            "White                             245212\n",
            "Hispanic                           27446\n",
            "Black                              22939\n",
            "Other                              10928\n",
            "Asian                               8068\n",
            "American Indian/Alaskan Native      5202\n",
            "Name: count, dtype: int64\n",
            "<bound method IndexOpsMixin.value_counts of 0               55-59\n",
            "1         80 or older\n",
            "2               65-69\n",
            "3               75-79\n",
            "4               40-44\n",
            "             ...     \n",
            "319790          60-64\n",
            "319791          35-39\n",
            "319792          45-49\n",
            "319793          25-29\n",
            "319794    80 or older\n",
            "Name: AgeCategory, Length: 319795, dtype: object>\n"
          ]
        }
      ]
    },
    {
      "cell_type": "markdown",
      "source": [
        "One-hot encoding for non-ordinal and non-binary categorical value"
      ],
      "metadata": {
        "id": "nbNNgMsqMAtp"
      }
    },
    {
      "cell_type": "code",
      "source": [
        "df = pd.get_dummies(df, columns=['AgeCategory', 'Race'])\n",
        "print(df.head(10))"
      ],
      "metadata": {
        "colab": {
          "base_uri": "https://localhost:8080/"
        },
        "id": "TTPaCtmKMKlj",
        "outputId": "4e37056d-bda8-4e36-a321-0f06099a5d28"
      },
      "execution_count": null,
      "outputs": [
        {
          "output_type": "stream",
          "name": "stdout",
          "text": [
            "   HeartDisease    BMI  Smoking  AlcoholDrinking  Stroke  PhysicalHealth  \\\n",
            "0             0  16.60        1                0       0             3.0   \n",
            "1             0  20.34        0                0       1             0.0   \n",
            "2             0  26.58        1                0       0            20.0   \n",
            "3             0  24.21        0                0       0             0.0   \n",
            "4             0  23.71        0                0       0            28.0   \n",
            "5             1  28.87        1                0       0             6.0   \n",
            "6             0  21.63        0                0       0            15.0   \n",
            "7             0  31.64        1                0       0             5.0   \n",
            "8             0  26.45        0                0       0             0.0   \n",
            "9             0  40.69        0                0       0             0.0   \n",
            "\n",
            "   MentalHealth  DiffWalking  Sex  Diabetic  ...  AgeCategory_65-69  \\\n",
            "0          30.0            0    0         2  ...              False   \n",
            "1           0.0            0    0         0  ...              False   \n",
            "2          30.0            0    1         2  ...               True   \n",
            "3           0.0            0    0         0  ...              False   \n",
            "4           0.0            1    0         0  ...              False   \n",
            "5           0.0            1    0         0  ...              False   \n",
            "6           0.0            0    0         0  ...              False   \n",
            "7           0.0            1    0         2  ...              False   \n",
            "8           0.0            0    0         1  ...              False   \n",
            "9           0.0            1    1         0  ...               True   \n",
            "\n",
            "   AgeCategory_70-74  AgeCategory_75-79  AgeCategory_80 or older  \\\n",
            "0              False              False                    False   \n",
            "1              False              False                     True   \n",
            "2              False              False                    False   \n",
            "3              False               True                    False   \n",
            "4              False              False                    False   \n",
            "5              False               True                    False   \n",
            "6               True              False                    False   \n",
            "7              False              False                     True   \n",
            "8              False              False                     True   \n",
            "9              False              False                    False   \n",
            "\n",
            "   Race_American Indian/Alaskan Native  Race_Asian  Race_Black  Race_Hispanic  \\\n",
            "0                                False       False       False          False   \n",
            "1                                False       False       False          False   \n",
            "2                                False       False       False          False   \n",
            "3                                False       False       False          False   \n",
            "4                                False       False       False          False   \n",
            "5                                False       False        True          False   \n",
            "6                                False       False       False          False   \n",
            "7                                False       False       False          False   \n",
            "8                                False       False       False          False   \n",
            "9                                False       False       False          False   \n",
            "\n",
            "   Race_Other  Race_White  \n",
            "0       False        True  \n",
            "1       False        True  \n",
            "2       False        True  \n",
            "3       False        True  \n",
            "4       False        True  \n",
            "5       False       False  \n",
            "6       False        True  \n",
            "7       False        True  \n",
            "8       False        True  \n",
            "9       False        True  \n",
            "\n",
            "[10 rows x 35 columns]\n"
          ]
        }
      ]
    },
    {
      "cell_type": "code",
      "source": [
        "# Convert only the newly created columns from True/False to 1/0 (after get_dummies)\n",
        "df[df.columns[df.dtypes == 'bool']] = df[df.columns[df.dtypes == 'bool']].astype(int)\n",
        "print(df.head())"
      ],
      "metadata": {
        "colab": {
          "base_uri": "https://localhost:8080/"
        },
        "id": "UftPEHxQQJS4",
        "outputId": "37f94ca8-a53a-4d5f-d984-58fd98b4353b"
      },
      "execution_count": null,
      "outputs": [
        {
          "output_type": "stream",
          "name": "stdout",
          "text": [
            "   HeartDisease    BMI  Smoking  AlcoholDrinking  Stroke  PhysicalHealth  \\\n",
            "0             0  16.60        1                0       0             3.0   \n",
            "1             0  20.34        0                0       1             0.0   \n",
            "2             0  26.58        1                0       0            20.0   \n",
            "3             0  24.21        0                0       0             0.0   \n",
            "4             0  23.71        0                0       0            28.0   \n",
            "\n",
            "   MentalHealth  DiffWalking  Sex  Diabetic  ...  AgeCategory_65-69  \\\n",
            "0          30.0            0    0         2  ...                  0   \n",
            "1           0.0            0    0         0  ...                  0   \n",
            "2          30.0            0    1         2  ...                  1   \n",
            "3           0.0            0    0         0  ...                  0   \n",
            "4           0.0            1    0         0  ...                  0   \n",
            "\n",
            "   AgeCategory_70-74  AgeCategory_75-79  AgeCategory_80 or older  \\\n",
            "0                  0                  0                        0   \n",
            "1                  0                  0                        1   \n",
            "2                  0                  0                        0   \n",
            "3                  0                  1                        0   \n",
            "4                  0                  0                        0   \n",
            "\n",
            "   Race_American Indian/Alaskan Native  Race_Asian  Race_Black  Race_Hispanic  \\\n",
            "0                                    0           0           0              0   \n",
            "1                                    0           0           0              0   \n",
            "2                                    0           0           0              0   \n",
            "3                                    0           0           0              0   \n",
            "4                                    0           0           0              0   \n",
            "\n",
            "   Race_Other  Race_White  \n",
            "0           0           1  \n",
            "1           0           1  \n",
            "2           0           1  \n",
            "3           0           1  \n",
            "4           0           1  \n",
            "\n",
            "[5 rows x 35 columns]\n"
          ]
        }
      ]
    },
    {
      "cell_type": "code",
      "source": [
        "print(df.columns)"
      ],
      "metadata": {
        "colab": {
          "base_uri": "https://localhost:8080/"
        },
        "id": "7gKxdLEoM6Sx",
        "outputId": "1ba122e9-fd89-4bf0-c001-e4a8536f6423"
      },
      "execution_count": null,
      "outputs": [
        {
          "output_type": "stream",
          "name": "stdout",
          "text": [
            "Index(['HeartDisease', 'BMI', 'Smoking', 'AlcoholDrinking', 'Stroke',\n",
            "       'PhysicalHealth', 'MentalHealth', 'DiffWalking', 'Sex', 'Diabetic',\n",
            "       'PhysicalActivity', 'GenHealth', 'SleepTime', 'Asthma', 'KidneyDisease',\n",
            "       'SkinCancer', 'AgeCategory_18-24', 'AgeCategory_25-29',\n",
            "       'AgeCategory_30-34', 'AgeCategory_35-39', 'AgeCategory_40-44',\n",
            "       'AgeCategory_45-49', 'AgeCategory_50-54', 'AgeCategory_55-59',\n",
            "       'AgeCategory_60-64', 'AgeCategory_65-69', 'AgeCategory_70-74',\n",
            "       'AgeCategory_75-79', 'AgeCategory_80 or older',\n",
            "       'Race_American Indian/Alaskan Native', 'Race_Asian', 'Race_Black',\n",
            "       'Race_Hispanic', 'Race_Other', 'Race_White'],\n",
            "      dtype='object')\n"
          ]
        }
      ]
    },
    {
      "cell_type": "markdown",
      "source": [
        "Handle missing values"
      ],
      "metadata": {
        "id": "tftocxjEJeeM"
      }
    },
    {
      "cell_type": "code",
      "source": [
        "# Fill missing numerical columns with median or mean (example using median here)\n",
        "numerical_columns = ['BMI', 'PhysicalHealth', 'MentalHealth', 'SleepTime']\n",
        "df[numerical_columns] = df[numerical_columns].apply(lambda x: x.fillna(x.median()))\n",
        "\n",
        "print(df.head())"
      ],
      "metadata": {
        "colab": {
          "base_uri": "https://localhost:8080/"
        },
        "id": "CxzwZIH4H0ZM",
        "outputId": "d68febf5-cb3a-4628-8966-5c64737392f4"
      },
      "execution_count": null,
      "outputs": [
        {
          "output_type": "stream",
          "name": "stdout",
          "text": [
            "   HeartDisease    BMI  Smoking  AlcoholDrinking  Stroke  PhysicalHealth  \\\n",
            "0             0  16.60        1                0       0             3.0   \n",
            "1             0  20.34        0                0       1             0.0   \n",
            "2             0  26.58        1                0       0            20.0   \n",
            "3             0  24.21        0                0       0             0.0   \n",
            "4             0  23.71        0                0       0            28.0   \n",
            "\n",
            "   MentalHealth  DiffWalking  Sex  Diabetic  ...  AgeCategory_65-69  \\\n",
            "0          30.0            0    0         2  ...                  0   \n",
            "1           0.0            0    0         0  ...                  0   \n",
            "2          30.0            0    1         2  ...                  1   \n",
            "3           0.0            0    0         0  ...                  0   \n",
            "4           0.0            1    0         0  ...                  0   \n",
            "\n",
            "   AgeCategory_70-74  AgeCategory_75-79  AgeCategory_80 or older  \\\n",
            "0                  0                  0                        0   \n",
            "1                  0                  0                        1   \n",
            "2                  0                  0                        0   \n",
            "3                  0                  1                        0   \n",
            "4                  0                  0                        0   \n",
            "\n",
            "   Race_American Indian/Alaskan Native  Race_Asian  Race_Black  Race_Hispanic  \\\n",
            "0                                    0           0           0              0   \n",
            "1                                    0           0           0              0   \n",
            "2                                    0           0           0              0   \n",
            "3                                    0           0           0              0   \n",
            "4                                    0           0           0              0   \n",
            "\n",
            "   Race_Other  Race_White  \n",
            "0           0           1  \n",
            "1           0           1  \n",
            "2           0           1  \n",
            "3           0           1  \n",
            "4           0           1  \n",
            "\n",
            "[5 rows x 35 columns]\n"
          ]
        }
      ]
    },
    {
      "cell_type": "markdown",
      "source": [
        "Scaling numerical data"
      ],
      "metadata": {
        "id": "DaX8xBB9SIAx"
      }
    },
    {
      "cell_type": "code",
      "source": [
        "from sklearn.preprocessing import StandardScaler\n",
        "\n",
        "# Initialize the scaler\n",
        "scaler = StandardScaler()\n",
        "\n",
        "# List of continuous features to scale\n",
        "continuous_features = ['BMI', 'PhysicalHealth', 'MentalHealth']\n",
        "\n",
        "# Scale the selected continuous features\n",
        "df[continuous_features] = scaler.fit_transform(df[continuous_features])\n",
        "\n",
        "# Print the scaled DataFrame to verify\n",
        "print(df.head())"
      ],
      "metadata": {
        "colab": {
          "base_uri": "https://localhost:8080/"
        },
        "id": "d_5Uz94zPxO3",
        "outputId": "5d139e4e-cbb8-45d4-8f4c-7ca7c0250397"
      },
      "execution_count": null,
      "outputs": [
        {
          "output_type": "stream",
          "name": "stdout",
          "text": [
            "   HeartDisease       BMI  Smoking  AlcoholDrinking  Stroke  PhysicalHealth  \\\n",
            "0             0 -1.844750        1                0       0       -0.046751   \n",
            "1             0 -1.256338        0                0       1       -0.424070   \n",
            "2             0 -0.274603        1                0       0        2.091388   \n",
            "3             0 -0.647473        0                0       0       -0.424070   \n",
            "4             0 -0.726138        0                0       0        3.097572   \n",
            "\n",
            "   MentalHealth  DiffWalking  Sex  Diabetic  ...  AgeCategory_65-69  \\\n",
            "0      3.281069            0    0         2  ...                  0   \n",
            "1     -0.490039            0    0         0  ...                  0   \n",
            "2      3.281069            0    1         2  ...                  1   \n",
            "3     -0.490039            0    0         0  ...                  0   \n",
            "4     -0.490039            1    0         0  ...                  0   \n",
            "\n",
            "   AgeCategory_70-74  AgeCategory_75-79  AgeCategory_80 or older  \\\n",
            "0                  0                  0                        0   \n",
            "1                  0                  0                        1   \n",
            "2                  0                  0                        0   \n",
            "3                  0                  1                        0   \n",
            "4                  0                  0                        0   \n",
            "\n",
            "   Race_American Indian/Alaskan Native  Race_Asian  Race_Black  Race_Hispanic  \\\n",
            "0                                    0           0           0              0   \n",
            "1                                    0           0           0              0   \n",
            "2                                    0           0           0              0   \n",
            "3                                    0           0           0              0   \n",
            "4                                    0           0           0              0   \n",
            "\n",
            "   Race_Other  Race_White  \n",
            "0           0           1  \n",
            "1           0           1  \n",
            "2           0           1  \n",
            "3           0           1  \n",
            "4           0           1  \n",
            "\n",
            "[5 rows x 35 columns]\n"
          ]
        }
      ]
    },
    {
      "cell_type": "code",
      "source": [
        "from google.colab import files\n",
        "\n",
        "# Save the preprocessed DataFrame to a CSV file\n",
        "df.to_csv('preprocessed_data.csv', index=False)\n",
        "\n",
        "# Download the CSV file\n",
        "files.download('preprocessed_data.csv')\n"
      ],
      "metadata": {
        "colab": {
          "base_uri": "https://localhost:8080/",
          "height": 17
        },
        "id": "cg4NLqhBSTB5",
        "outputId": "c595b259-62bb-45d8-b1e4-061889a419f5"
      },
      "execution_count": null,
      "outputs": [
        {
          "output_type": "display_data",
          "data": {
            "text/plain": [
              "<IPython.core.display.Javascript object>"
            ],
            "application/javascript": [
              "\n",
              "    async function download(id, filename, size) {\n",
              "      if (!google.colab.kernel.accessAllowed) {\n",
              "        return;\n",
              "      }\n",
              "      const div = document.createElement('div');\n",
              "      const label = document.createElement('label');\n",
              "      label.textContent = `Downloading \"${filename}\": `;\n",
              "      div.appendChild(label);\n",
              "      const progress = document.createElement('progress');\n",
              "      progress.max = size;\n",
              "      div.appendChild(progress);\n",
              "      document.body.appendChild(div);\n",
              "\n",
              "      const buffers = [];\n",
              "      let downloaded = 0;\n",
              "\n",
              "      const channel = await google.colab.kernel.comms.open(id);\n",
              "      // Send a message to notify the kernel that we're ready.\n",
              "      channel.send({})\n",
              "\n",
              "      for await (const message of channel.messages) {\n",
              "        // Send a message to notify the kernel that we're ready.\n",
              "        channel.send({})\n",
              "        if (message.buffers) {\n",
              "          for (const buffer of message.buffers) {\n",
              "            buffers.push(buffer);\n",
              "            downloaded += buffer.byteLength;\n",
              "            progress.value = downloaded;\n",
              "          }\n",
              "        }\n",
              "      }\n",
              "      const blob = new Blob(buffers, {type: 'application/binary'});\n",
              "      const a = document.createElement('a');\n",
              "      a.href = window.URL.createObjectURL(blob);\n",
              "      a.download = filename;\n",
              "      div.appendChild(a);\n",
              "      a.click();\n",
              "      div.remove();\n",
              "    }\n",
              "  "
            ]
          },
          "metadata": {}
        },
        {
          "output_type": "display_data",
          "data": {
            "text/plain": [
              "<IPython.core.display.Javascript object>"
            ],
            "application/javascript": [
              "download(\"download_7e1d2aa8-d499-4d0c-8b78-7f65a99b2924\", \"preprocessed_data.csv\", 39927425)"
            ]
          },
          "metadata": {}
        }
      ]
    },
    {
      "cell_type": "code",
      "source": [
        "print(df['HeartDisease'].value_counts())"
      ],
      "metadata": {
        "colab": {
          "base_uri": "https://localhost:8080/"
        },
        "id": "GjZ8z8nrTKxN",
        "outputId": "0582556f-dda9-4ff7-e94e-13e9d62bdc5e"
      },
      "execution_count": null,
      "outputs": [
        {
          "output_type": "stream",
          "name": "stdout",
          "text": [
            "HeartDisease\n",
            "0    292422\n",
            "1     27373\n",
            "Name: count, dtype: int64\n"
          ]
        }
      ]
    },
    {
      "cell_type": "code",
      "source": [],
      "metadata": {
        "id": "MdcxMVs3TaCR"
      },
      "execution_count": null,
      "outputs": []
    }
  ]
}